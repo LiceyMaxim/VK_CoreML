{
 "cells": [
  {
   "cell_type": "markdown",
   "metadata": {
    "id": "n8uS4hFMBsSR"
   },
   "source": [
    "# Задача"
   ]
  },
  {
   "cell_type": "markdown",
   "metadata": {
    "id": "nCsklAdMBsST"
   },
   "source": [
    "Тестовое задание для стажёра в команду Core ML\n",
    "\n",
    "На датасете MovieLens 20M сравните два подхода к построению рекомендаций:\n",
    "\n",
    "• коллаборативный: используйте только рейтинги. Например SVD-like алгоритмы, ALS, Implicit-ALS.\n",
    "\n",
    "• коллаборативный + контентный: используйте рейтинги и всю дополнительную информацию о фильмах, имеющуюся в датасете. Например LightFM.\n",
    "\n",
    "Для выполнения задания:\n",
    "\n",
    "1    Выберите метрику и обоснуйте этот выбор.\n",
    "\n",
    "**Для обучения я выбрал метрику precision@10. Precision@10 используется когда необходимо рекомендовать n лучших \"вариантов\". Ещё при анализе я использовал recall и coverage**\n",
    "\n",
    "2    Придумайте и обоснуйте способ разбиения данных на обучение и валидацию.\n",
    "\n",
    "**Столбцы входной таблицы отсортированы по временной метке. В качестве тренировочного набора взяты старые записи, а для тестового новые. Это имитирует работу рекомендационной модели**\n",
    "\n",
    "3    Обратите внимание на сходимость обучения и настройку важных гиперпараметров моделей.\n",
    "\n",
    "**В качестве средства настройки гиперпараметров я использовал библиотеку [optuna](https://optuna.org/)**\n",
    "\n",
    "4    Выберите лучшую модель (При необходимости, оцените статистическую значимость результатов).\n",
    "\n",
    "**Для всех выбранных метрик LightFM показал лучшие результаты чем SVD.**\n",
    "\n",
    "5    Выложите на GitHub воспроизводимый код и краткий текстовый отчёт с выводами (можно в формате Jupyter Notebook).\n",
    "\n",
    "**https://github.com/LiceyMaxim/VK_CoreML**\n",
    "\n",
    "\n",
    "В поиске информации я нашёл статью, она послужила основой для решения. Поэтому я решил использовать холодный старт)\n",
    "https://www.eigentheories.com/blog/lightfm-vs-hybridsvd/\n",
    "\n"
   ]
  },
  {
   "cell_type": "markdown",
   "metadata": {
    "id": "x0QZH5Mv719f"
   },
   "source": [
    "### Я буду сравнивать SVD и LightFM."
   ]
  },
  {
   "cell_type": "markdown",
   "metadata": {},
   "source": [
    "# Установка неободимых библиотек"
   ]
  },
  {
   "cell_type": "code",
   "execution_count": 1,
   "metadata": {
    "id": "xIlrX0MYNBNj"
   },
   "outputs": [
    {
     "name": "stdout",
     "output_type": "stream",
     "text": [
      "Requirement already satisfied: lightfm in /home/linreg/.local/lib/python3.9/site-packages (1.16)\n",
      "Requirement already satisfied: scipy>=0.17.0 in /home/linreg/.local/lib/python3.9/site-packages (from lightfm) (1.7.3)\n",
      "Requirement already satisfied: requests in /home/linreg/.local/lib/python3.9/site-packages (from lightfm) (2.25.1)\n",
      "Requirement already satisfied: scikit-learn in /home/linreg/.local/lib/python3.9/site-packages (from lightfm) (1.0.2)\n",
      "Requirement already satisfied: numpy in /home/linreg/.local/lib/python3.9/site-packages (from lightfm) (1.21.5)\n",
      "Requirement already satisfied: idna<3,>=2.5 in /home/linreg/.local/lib/python3.9/site-packages (from requests->lightfm) (2.8)\n",
      "Requirement already satisfied: chardet<5,>=3.0.2 in /home/linreg/.local/lib/python3.9/site-packages (from requests->lightfm) (3.0.4)\n",
      "Requirement already satisfied: certifi>=2017.4.17 in /home/linreg/.local/lib/python3.9/site-packages (from requests->lightfm) (2021.10.8)\n",
      "Requirement already satisfied: urllib3<1.27,>=1.21.1 in /home/linreg/.local/lib/python3.9/site-packages (from requests->lightfm) (1.26.9)\n",
      "Requirement already satisfied: joblib>=0.11 in /home/linreg/.local/lib/python3.9/site-packages (from scikit-learn->lightfm) (1.1.0)\n",
      "Requirement already satisfied: threadpoolctl>=2.0.0 in /home/linreg/.local/lib/python3.9/site-packages (from scikit-learn->lightfm) (3.1.0)\n",
      "Requirement already satisfied: optuna in /home/linreg/.local/lib/python3.9/site-packages (2.10.0)\n",
      "Requirement already satisfied: sqlalchemy>=1.1.0 in /home/linreg/.local/lib/python3.9/site-packages (from optuna) (1.4.32)\n",
      "Requirement already satisfied: alembic in /home/linreg/.local/lib/python3.9/site-packages (from optuna) (1.7.7)\n",
      "Requirement already satisfied: scipy!=1.4.0 in /home/linreg/.local/lib/python3.9/site-packages (from optuna) (1.7.3)\n",
      "Requirement already satisfied: numpy in /home/linreg/.local/lib/python3.9/site-packages (from optuna) (1.21.5)\n",
      "Requirement already satisfied: PyYAML in /usr/lib/python3/dist-packages (from optuna) (5.3.1)\n",
      "Requirement already satisfied: cliff in /home/linreg/.local/lib/python3.9/site-packages (from optuna) (3.10.1)\n",
      "Requirement already satisfied: tqdm in /home/linreg/.local/lib/python3.9/site-packages (from optuna) (4.63.0)\n",
      "Requirement already satisfied: cmaes>=0.8.2 in /home/linreg/.local/lib/python3.9/site-packages (from optuna) (0.8.2)\n",
      "Requirement already satisfied: colorlog in /home/linreg/.local/lib/python3.9/site-packages (from optuna) (6.6.0)\n",
      "Requirement already satisfied: packaging>=20.0 in /home/linreg/.local/lib/python3.9/site-packages (from optuna) (21.3)\n",
      "Requirement already satisfied: pyparsing!=3.0.5,>=2.0.2 in /home/linreg/.local/lib/python3.9/site-packages (from packaging>=20.0->optuna) (3.0.7)\n",
      "Requirement already satisfied: greenlet!=0.4.17 in /home/linreg/.local/lib/python3.9/site-packages (from sqlalchemy>=1.1.0->optuna) (1.1.2)\n",
      "Requirement already satisfied: Mako in /usr/lib/python3/dist-packages (from alembic->optuna) (1.1.3)\n",
      "Requirement already satisfied: stevedore>=2.0.1 in /home/linreg/.local/lib/python3.9/site-packages (from cliff->optuna) (3.5.0)\n",
      "Requirement already satisfied: autopage>=0.4.0 in /home/linreg/.local/lib/python3.9/site-packages (from cliff->optuna) (0.5.0)\n",
      "Requirement already satisfied: cmd2>=1.0.0 in /home/linreg/.local/lib/python3.9/site-packages (from cliff->optuna) (2.4.0)\n",
      "Requirement already satisfied: pbr!=2.1.0,>=2.0.0 in /home/linreg/.local/lib/python3.9/site-packages (from cliff->optuna) (5.8.1)\n",
      "Requirement already satisfied: PrettyTable>=0.7.2 in /home/linreg/.local/lib/python3.9/site-packages (from cliff->optuna) (3.2.0)\n",
      "Requirement already satisfied: wcwidth>=0.1.7 in /home/linreg/.local/lib/python3.9/site-packages (from cmd2>=1.0.0->cliff->optuna) (0.2.5)\n",
      "Requirement already satisfied: attrs>=16.3.0 in /home/linreg/.local/lib/python3.9/site-packages (from cmd2>=1.0.0->cliff->optuna) (21.4.0)\n",
      "Requirement already satisfied: pyperclip>=1.6 in /home/linreg/.local/lib/python3.9/site-packages (from cmd2>=1.0.0->cliff->optuna) (1.8.2)\n",
      "Requirement already satisfied: tqdm in /home/linreg/.local/lib/python3.9/site-packages (4.63.0)\n",
      "Collecting polara\n",
      "  Cloning https://github.com/evfro/polara.git to /tmp/pip-install-vx0ra3ia/polara_b4396880452e4191a40207233e1457a7\n",
      "  Running command git clone -q https://github.com/evfro/polara.git /tmp/pip-install-vx0ra3ia/polara_b4396880452e4191a40207233e1457a7\n"
     ]
    }
   ],
   "source": [
    "!pip install lightfm\n",
    "!pip install optuna\n",
    "!pip install tqdm\n",
    "!pip install --no-cache-dir --upgrade git+https://github.com/evfro/polara.git#egg=polara"
   ]
  },
  {
   "cell_type": "code",
   "execution_count": 2,
   "metadata": {},
   "outputs": [],
   "source": [
    "import numpy as np\n",
    "import pandas as pd\n",
    "import matplotlib.pyplot as plt\n",
    "import optuna\n",
    "\n",
    "from tqdm.auto import tqdm\n",
    "\n",
    "from polara.recommender.coldstart.data import ItemColdStartData\n",
    "from polara.recommender.coldstart.data import ItemColdStartSimilarityData\n",
    "from polara.recommender.coldstart.models import LightFMItemColdStart\n",
    "from polara.recommender.coldstart.models import ScaledSVDItemColdStart\n",
    "from polara.evaluation.evaluation_engine import consolidate_metrics\n",
    "from polara.lib.similarity import combine_similarity_data\n"
   ]
  },
  {
   "cell_type": "markdown",
   "metadata": {},
   "source": [
    "P.S. optuna используется для подбора гиперпараметров в polara"
   ]
  },
  {
   "cell_type": "code",
   "execution_count": 3,
   "metadata": {},
   "outputs": [],
   "source": [
    "seed = 42 # random seed\n",
    "plt.style.use([\"seaborn-notebook\"])"
   ]
  },
  {
   "cell_type": "markdown",
   "metadata": {},
   "source": [
    "# Загрузка данных и обработка"
   ]
  },
  {
   "cell_type": "code",
   "execution_count": null,
   "metadata": {},
   "outputs": [],
   "source": [
    "!wget --load-cookies /tmp/cookies.txt \"https://docs.google.com/uc?export=download&confirm=$(wget --quiet --save-cookies /tmp/cookies.txt --keep-session-cookies --no-check-certificate 'https://docs.google.com/uc?export=download&id=1j4UDdE0qWxEOsHhMyBPi8hSCZSRyN9GA' -O- | sed -rn 's/.*confirm=([0-9A-Za-z_]+).*/\\1\\n/p')&id=1j4UDdE0qWxEOsHhMyBPi8hSCZSRyN9GA\" -O movies.csv && rm -rf /tmp/cookies.txt"
   ]
  },
  {
   "cell_type": "code",
   "execution_count": null,
   "metadata": {},
   "outputs": [],
   "source": [
    "!wget --load-cookies /tmp/cookies.txt \"https://docs.google.com/uc?export=download&confirm=$(wget --quiet --save-cookies /tmp/cookies.txt --keep-session-cookies --no-check-certificate 'https://docs.google.com/uc?export=download&id=1JQWMelZa3ybAkI_mQibInwnr7HFCnWgM' -O- | sed -rn 's/.*confirm=([0-9A-Za-z_]+).*/\\1\\n/p')&id=1JQWMelZa3ybAkI_mQibInwnr7HFCnWgM\" -O rating.csv && rm -rf /tmp/cookies.txt"
   ]
  },
  {
   "cell_type": "markdown",
   "metadata": {
    "id": "y71WYpcnmckB"
   },
   "source": [
    "Чтобы иметь использовать функции Polara для работы с данными, нам нужно дать им определенную структуру"
   ]
  },
  {
   "cell_type": "code",
   "execution_count": 4,
   "metadata": {
    "id": "uZVh2L0dOOkb"
   },
   "outputs": [],
   "source": [
    "movies = pd.read_csv(\"movie.csv\")\n",
    "ratings = pd.read_csv(\"rating.csv\", skiprows=0, nrows=30000)\n",
    "ratings = ratings.sort_values(by=\"timestamp\")\n"
   ]
  },
  {
   "cell_type": "markdown",
   "metadata": {
    "id": "8Nqf-FaiuyoF"
   },
   "source": [
    "Стандартный сплит 80/20. Разделение данных производится по метке времени. Обучение проводится на старых данных, а тестирование на новых. Этот способ разделения данных имитирует обучение на текущих данных для подготовки алгоритма к будущим данным."
   ]
  },
  {
   "cell_type": "code",
   "execution_count": 5,
   "metadata": {
    "id": "g4rP9w5UOQ0A"
   },
   "outputs": [
    {
     "name": "stderr",
     "output_type": "stream",
     "text": [
      "/tmp/ipykernel_177015/2112087770.py:4: FutureWarning: In a future version of pandas all arguments of DataFrame.drop except for the argument 'labels' will be keyword-only.\n",
      "  train = train.drop(\"timestamp\", 1)\n",
      "/tmp/ipykernel_177015/2112087770.py:5: FutureWarning: In a future version of pandas all arguments of DataFrame.drop except for the argument 'labels' will be keyword-only.\n",
      "  test = test.drop(\"timestamp\", 1)\n"
     ]
    }
   ],
   "source": [
    "train = ratings[: int(ratings.shape[0] * 0.8)]\n",
    "test = ratings[int(ratings.shape[0] * 0.8) :]\n",
    "\n",
    "train = train.drop(\"timestamp\", 1)\n",
    "test = test.drop(\"timestamp\", 1)\n"
   ]
  },
  {
   "cell_type": "code",
   "execution_count": 6,
   "metadata": {
    "colab": {
     "base_uri": "https://localhost:8080/",
     "height": 567
    },
    "executionInfo": {
     "elapsed": 7,
     "status": "ok",
     "timestamp": 1623748958349,
     "user": {
      "displayName": "Alexey Dzyuba",
      "photoUrl": "",
      "userId": "05634633047452801729"
     },
     "user_tz": -240
    },
    "id": "6Qs7vJ_5PJIZ",
    "outputId": "88baf9ac-dddb-4341-dbe7-fe89bff2ad0d"
   },
   "outputs": [
    {
     "name": "stdout",
     "output_type": "stream",
     "text": [
      "ItemColdStartData with Fields(userid='userId', itemid='movieId', feedback='rating')\n",
      "Preparing data...\n",
      "Done.\n",
      "There are 22802 events in the training and 1198 events in the holdout.\n"
     ]
    },
    {
     "name": "stderr",
     "output_type": "stream",
     "text": [
      "/tmp/ipykernel_177015/1876061612.py:1: FutureWarning: In a future version of pandas all arguments of DataFrame.drop except for the argument 'labels' will be keyword-only.\n",
      "  movies = movies.drop(\"title\", 1)\n"
     ]
    }
   ],
   "source": [
    "movies = movies.drop(\"title\", 1)\n",
    "movies[\"genres\"] = movies[\"genres\"].str.split(\"|\")\n",
    "\n",
    "item_tags = movies\n",
    "\n",
    "train = train.sample(frac=1, random_state=seed) \n",
    "\n",
    "item_tags = item_tags.set_index(\"movieId\")\n",
    "\n",
    "\n",
    "data_model = ItemColdStartData(\n",
    "    train,\n",
    "    *train.columns,\n",
    "    item_features=item_tags,\n",
    "    seed=seed\n",
    ")\n",
    "\n",
    "print(data_model)\n",
    "\n",
    "data_model.test_ratio = 0.05  # 5% холода\n",
    "data_model.prepare()\n"
   ]
  },
  {
   "cell_type": "code",
   "execution_count": 7,
   "metadata": {},
   "outputs": [],
   "source": [
    "num_threads = 4 # потоки\n",
    "max_rank = 100\n",
    "target_metric = \"precision\""
   ]
  },
  {
   "cell_type": "code",
   "execution_count": 8,
   "metadata": {
    "id": "zwB8XK_WPRHB"
   },
   "outputs": [],
   "source": [
    "def create_lightfm_model(data_model, item_features, num_threads, seed=None):\n",
    "    \"Подготовка модель LightFM\"\n",
    "    model = LightFMItemColdStart(data_model, item_features=item_features)\n",
    "    model.loss = \"warp\"\n",
    "    model.learning_schedule = \"adagrad\"\n",
    "    model.seed = seed\n",
    "    model.fit_params[\"num_threads\"] = num_threads\n",
    "    return model\n",
    "\n",
    "\n",
    "lfm = create_lightfm_model(data_model, item_tags, num_threads, seed)\n"
   ]
  },
  {
   "cell_type": "code",
   "execution_count": 9,
   "metadata": {
    "id": "535s7tGHPaaO"
   },
   "outputs": [],
   "source": [
    "def evaluate_lightfm(model):\n",
    "    model._model.user_biases *= 0.0\n",
    "    return model.evaluate()\n",
    "\n",
    "\n",
    "def find_target_metric(metrics, target_metric):\n",
    "    \"Функция для быстрого извлечения необходимой метрики\"\n",
    "    for metric in metrics:\n",
    "        if hasattr(metric, target_metric):\n",
    "            return getattr(metric, target_metric)\n",
    "\n",
    "\n",
    "def lightfm_objective(model, target_metric):\n",
    "    \"Фабрика функций для optuna\"\n",
    "\n",
    "    def objective(trial):\n",
    "        model.rank = trial.suggest_int(\"rank\", 1, max_rank)\n",
    "        model.item_alpha = trial.suggest_loguniform(\"item_alpha\", 1e-10, 1e-0)\n",
    "        model.verbose = False\n",
    "        model.build()\n",
    "        metrics = evaluate_lightfm(model)\n",
    "        target = find_target_metric(metrics, target_metric)\n",
    "        trial.set_user_attr(\"epochs\", model.fit_params[\"epochs\"])\n",
    "        trial.set_user_attr(\"metrics\", metrics)\n",
    "        return target\n",
    "\n",
    "    return objective\n",
    "\n",
    "\n",
    "n_trials = {\n",
    "    15: 150,\n",
    "    25: 100,\n",
    "    50: 70,\n",
    "    75: 50,\n",
    "    100: 20,\n",
    "    150: 10, \n",
    "}\n"
   ]
  },
  {
   "cell_type": "markdown",
   "metadata": {
    "id": "t75UD8XpFKE-"
   },
   "source": [
    "# **SVD**"
   ]
  },
  {
   "cell_type": "code",
   "execution_count": 10,
   "metadata": {
    "colab": {
     "base_uri": "https://localhost:8080/",
     "height": 85,
     "referenced_widgets": [
      "6585a860752a4c039461e8361fce171e",
      "b42eebf9e9cb4f5aad7f3487d6ebedda",
      "53c28c43efad48ffbbd06a984cec6abd",
      "cd8e561d2bbb483b9ecee87f94224bc6",
      "a386a4cd795b4bd090f4f710d0de23d3",
      "31a6426763714a1d8ec2856f1db0e091",
      "20b738e2bfd44d079c57f0d4886aa11d",
      "dd1b051f9e9b4580955bbe6feac87f19"
     ]
    },
    "executionInfo": {
     "elapsed": 7707,
     "status": "ok",
     "timestamp": 1623753214991,
     "user": {
      "displayName": "Alexey Dzyuba",
      "photoUrl": "",
      "userId": "05634633047452801729"
     },
     "user_tz": -240
    },
    "id": "1xBJb0yeM2je",
    "outputId": "30ab84e4-0b45-45a4-f61f-81ac775b5c43"
   },
   "outputs": [
    {
     "data": {
      "application/vnd.jupyter.widget-view+json": {
       "model_id": "4db369ae94424fc4ba07f43a72b16bc8",
       "version_major": 2,
       "version_minor": 0
      },
      "text/plain": [
       "  0%|          | 0/189 [00:00<?, ?it/s]"
      ]
     },
     "metadata": {},
     "output_type": "display_data"
    }
   ],
   "source": [
    "svd = ScaledSVDItemColdStart(data_model)\n",
    "\n",
    "from polara.evaluation.pipelines import (\n",
    "    find_optimal_config,\n",
    ")\n",
    "\n",
    "def fine_tune_scaledsvd(model, ranks, scale_params, target_metric):\n",
    "    \"Эффективная настройка ранга SVD для различных значений параметров масштабирования\"\n",
    "    rev_ranks = sorted(ranks, key=lambda x: -x)\n",
    "    param_grid = [(s, r) for s in scale_params for r in rev_ranks]\n",
    "    param_names = (\"col_scaling\", \"rank\")\n",
    "    config, scores = find_optimal_config(\n",
    "        model,\n",
    "        param_grid,\n",
    "        param_names,\n",
    "        target_metric,\n",
    "        return_scores=True,\n",
    "        force_build=False,\n",
    "        iterator=tqdm,\n",
    "    )\n",
    "    return config, scores\n",
    "\n",
    "\n",
    "rank_grid = [1,] + list(range(5, max_rank + 1, 5))\n",
    "\n",
    "scaling_grid = list(range(-8, 9, 2))\n",
    "i = 0\n",
    "for scale in scaling_grid:\n",
    "    scaling_grid[i] = scale / 10\n",
    "    i += 1\n",
    "scaling_grid\n",
    "\n",
    "svd_best_config, svd_scores = fine_tune_scaledsvd(\n",
    "    svd, rank_grid, scaling_grid, target_metric\n",
    ")\n"
   ]
  },
  {
   "cell_type": "markdown",
   "metadata": {
    "id": "putfZCHAF604"
   },
   "source": [
    "# **LightFM**"
   ]
  },
  {
   "cell_type": "code",
   "execution_count": 11,
   "metadata": {
    "colab": {
     "background_save": true,
     "base_uri": "https://localhost:8080/",
     "height": 49,
     "referenced_widgets": [
      "6470414259da4baa8e306a41ba2ecb19",
      "63892f9544e94db58705a990cee66ebc",
      "5bda0518cdfd474bb4d704e684f8d259",
      "b45575551b2944d19ce9d41bdb5dbb4d",
      "752db07ca3ac451c8fce4fb978198338",
      "b45b7494425d41a99f6b3ae7f86abe4b",
      "a8d6158d33224d35a10b1557a2aee4ff",
      "2d2f80d9fd6e4bfd8e559c700e3ea919"
     ]
    },
    "id": "R_yYlbgFPzvO",
    "outputId": "81157381-2ad9-41aa-fad7-8395910e5578"
   },
   "outputs": [
    {
     "name": "stderr",
     "output_type": "stream",
     "text": [
      "\u001b[32m[I 2022-04-05 01:59:58,253]\u001b[0m A new study created in memory with name: no-name-15463ea0-a354-455b-b6c7-c023a30bdbc3\u001b[0m\n"
     ]
    },
    {
     "data": {
      "application/vnd.jupyter.widget-view+json": {
       "model_id": "7cd991f85e7748988797cd833569fd8c",
       "version_major": 2,
       "version_minor": 0
      },
      "text/plain": [
       "  0%|          | 0/6 [00:00<?, ?it/s]"
      ]
     },
     "metadata": {},
     "output_type": "display_data"
    },
    {
     "name": "stderr",
     "output_type": "stream",
     "text": [
      "Trial 1 failed, because the objective function returned nan.\n",
      "Trial 9 failed, because the objective function returned nan.\n",
      "Trial 15 failed, because the objective function returned nan.\n",
      "Trial 16 failed, because the objective function returned nan.\n",
      "Trial 19 failed, because the objective function returned nan.\n",
      "Trial 50 failed, because the objective function returned nan.\n",
      "Trial 53 failed, because the objective function returned nan.\n",
      "Trial 70 failed, because the objective function returned nan.\n",
      "Trial 89 failed, because the objective function returned nan.\n",
      "Trial 107 failed, because the objective function returned nan.\n",
      "Trial 125 failed, because the objective function returned nan.\n",
      "Trial 131 failed, because the objective function returned nan.\n",
      "Trial 180 failed, because the objective function returned nan.\n",
      "Trial 186 failed, because the objective function returned nan.\n",
      "Trial 204 failed, because the objective function returned nan.\n",
      "Trial 216 failed, because the objective function returned nan.\n",
      "Trial 234 failed, because the objective function returned nan.\n",
      "Trial 260 failed, because the objective function returned nan.\n",
      "Trial 265 failed, because the objective function returned nan.\n",
      "Trial 268 failed, because the objective function returned nan.\n",
      "Trial 276 failed, because the objective function returned nan.\n",
      "Trial 292 failed, because the objective function returned nan.\n",
      "Trial 304 failed, because the objective function returned nan.\n",
      "Trial 312 failed, because the objective function returned nan.\n",
      "Trial 315 failed, because the objective function returned nan.\n",
      "Trial 373 failed, because the objective function returned nan.\n",
      "Trial 377 failed, because the objective function returned nan.\n",
      "Trial 379 failed, because the objective function returned nan.\n",
      "Trial 392 failed, because the objective function returned nan.\n",
      "Trial 395 failed, because the objective function returned nan.\n"
     ]
    }
   ],
   "source": [
    "objective = lightfm_objective(lfm, target_metric)\n",
    "\n",
    "study = optuna.create_study(\n",
    "    direction=\"maximize\", sampler=optuna.samplers.TPESampler(seed=seed)\n",
    ")\n",
    "\n",
    "optuna.logging.disable_default_handler() \n",
    "\n",
    "for num_epochs, num_trials in tqdm(n_trials.items()):\n",
    "    lfm.fit_params[\"epochs\"] = num_epochs\n",
    "    study.optimize(objective, n_trials=num_trials, n_jobs=1, catch=())\n"
   ]
  },
  {
   "cell_type": "markdown",
   "metadata": {
    "id": "0HZWCu9Dn6su"
   },
   "source": [
    "Для гиперпараметров я использовал Optuna. Потому что мне нравится этот фреймворк и есть такое видео https://www.youtube.com/watch?v=j7TcDsnup0o"
   ]
  },
  {
   "cell_type": "code",
   "execution_count": 12,
   "metadata": {
    "colab": {
     "base_uri": "https://localhost:8080/"
    },
    "executionInfo": {
     "elapsed": 265,
     "status": "ok",
     "timestamp": 1623753191966,
     "user": {
      "displayName": "Alexey Dzyuba",
      "photoUrl": "",
      "userId": "05634633047452801729"
     },
     "user_tz": -240
    },
    "id": "_FMbWxAJP6Pi",
    "outputId": "4122840b-dff8-409e-c3ca-3b0310507b5f"
   },
   "outputs": [
    {
     "name": "stdout",
     "output_type": "stream",
     "text": [
      "Лучее значение precision=2245971129879946432872448.0000 было достигнуто с помощьюrank=15 и item_alpha=3.11e-09 и количеством эпох=15.\n"
     ]
    }
   ],
   "source": [
    "print(\n",
    "    f\"Лучее значение {target_metric}={study.best_value:0.4f} было достигнуто с помощью\"\n",
    "    f'rank={study.best_params[\"rank\"]} и item_alpha={study.best_params[\"item_alpha\"]:.02e} '\n",
    "    f'и количеством эпох={study.best_trial.user_attrs[\"epochs\"]}.'\n",
    ")\n"
   ]
  },
  {
   "cell_type": "markdown",
   "metadata": {
    "id": "Iv226uFclNQp"
   },
   "source": [
    "# **Матрица подобия**\n"
   ]
  },
  {
   "cell_type": "code",
   "execution_count": 13,
   "metadata": {
    "colab": {
     "base_uri": "https://localhost:8080/"
    },
    "executionInfo": {
     "elapsed": 430,
     "status": "ok",
     "timestamp": 1623753218870,
     "user": {
      "displayName": "Alexey Dzyuba",
      "photoUrl": "",
      "userId": "05634633047452801729"
     },
     "user_tz": -240
    },
    "id": "GnplV7gFBsSh",
    "outputId": "3d8e5300-c86c-4c0f-ee55-741588dbb354"
   },
   "outputs": [
    {
     "name": "stdout",
     "output_type": "stream",
     "text": [
      "Матрица подобия 46.3%.\n"
     ]
    }
   ],
   "source": [
    "training_tags = item_tags.reindex(train[\"movieId\"].unique(), fill_value=[])\n",
    "tag_similarity = combine_similarity_data(training_tags, similarity_type=\"cosine\")\n",
    "print(\n",
    "    \"Матрица подобия \"\n",
    "    f\"{tag_similarity.nnz / np.prod(tag_similarity.shape):.1%}.\"\n",
    ")\n"
   ]
  },
  {
   "cell_type": "code",
   "execution_count": 14,
   "metadata": {
    "id": "87HzRtUxBsSi"
   },
   "outputs": [],
   "source": [
    "similarities = {\"users\": None, \"items\": tag_similarity}\n",
    "sim_indices = {\"users\": None, \"items\": training_tags.index}\n"
   ]
  },
  {
   "cell_type": "code",
   "execution_count": 15,
   "metadata": {
    "colab": {
     "base_uri": "https://localhost:8080/"
    },
    "executionInfo": {
     "elapsed": 5,
     "status": "ok",
     "timestamp": 1623753220131,
     "user": {
      "displayName": "Alexey Dzyuba",
      "photoUrl": "",
      "userId": "05634633047452801729"
     },
     "user_tz": -240
    },
    "id": "ELCGraX0BsSi",
    "outputId": "9c409f2c-6c2a-42e0-e267-3284e732bf17"
   },
   "outputs": [
    {
     "name": "stdout",
     "output_type": "stream",
     "text": [
      "ItemColdStartSimilarityData with Fields(userid='userId', itemid='movieId', feedback='rating')\n"
     ]
    }
   ],
   "source": [
    "data_model_sim = ItemColdStartSimilarityData(\n",
    "    train,\n",
    "    *train.columns,\n",
    "    relations_matrices=similarities,\n",
    "    relations_indices=sim_indices,\n",
    "    item_features=item_tags,\n",
    "    seed=seed\n",
    ")\n",
    "print(data_model_sim)\n"
   ]
  },
  {
   "cell_type": "code",
   "execution_count": 16,
   "metadata": {
    "colab": {
     "base_uri": "https://localhost:8080/"
    },
    "executionInfo": {
     "elapsed": 292,
     "status": "ok",
     "timestamp": 1623753223024,
     "user": {
      "displayName": "Alexey Dzyuba",
      "photoUrl": "",
      "userId": "05634633047452801729"
     },
     "user_tz": -240
    },
    "id": "GeqqjGAYBsSi",
    "outputId": "1d6807de-2dbb-45c3-f4d7-fdc418e51cfa"
   },
   "outputs": [
    {
     "name": "stdout",
     "output_type": "stream",
     "text": [
      "Preparing data...\n",
      "Done.\n",
      "There are 22802 events in the training and 1198 events in the holdout.\n"
     ]
    }
   ],
   "source": [
    "data_model_sim.test_ratio = data_model.test_ratio\n",
    "data_model_sim.prepare()\n"
   ]
  },
  {
   "cell_type": "markdown",
   "metadata": {
    "id": "YYxyG_KEBsSl"
   },
   "source": [
    "# Оценка моделей"
   ]
  },
  {
   "cell_type": "markdown",
   "metadata": {
    "id": "fRT0bG0iBsSl"
   },
   "source": [
    "## Подготовка данных"
   ]
  },
  {
   "cell_type": "markdown",
   "metadata": {
    "id": "yMNO3Ka0BsSl"
   },
   "source": [
    "Чтобы убрать разделения данных Polaris (а это обязательное действие для сравнения моделей), я буду использовать два метода `prepare_training_only` и `set_test`. Первый даст указание `data_model` использовать все обучающие данные для обучения без их разделения, а второй возьмёт тестовые данные, обеспечивая их общую согласованность. "
   ]
  },
  {
   "cell_type": "code",
   "execution_count": 17,
   "metadata": {
    "colab": {
     "base_uri": "https://localhost:8080/"
    },
    "executionInfo": {
     "elapsed": 666,
     "status": "ok",
     "timestamp": 1623753225248,
     "user": {
      "displayName": "Alexey Dzyuba",
      "photoUrl": "",
      "userId": "05634633047452801729"
     },
     "user_tz": -240
    },
    "id": "zayb-yH3BsSm",
    "outputId": "70417df7-c537-4825-edc1-def0460ed932"
   },
   "outputs": [
    {
     "name": "stdout",
     "output_type": "stream",
     "text": [
      "Preparing data...\n",
      "Done.\n",
      "There are 24000 events in the training and 0 events in the holdout.\n",
      "47 unique userId entities within 5024 holdout interactions were filtered. Reason: not in the training data.\n",
      "Done. There are 976 events in the holdout.\n"
     ]
    }
   ],
   "source": [
    "data_model_sim.prepare_training_only()\n",
    "data_model_sim.set_test_data(holdout=test)\n"
   ]
  },
  {
   "cell_type": "markdown",
   "metadata": {
    "id": "NpTTWGcCBsSm"
   },
   "source": [
    "## Подготовка моделей для сравнения"
   ]
  },
  {
   "cell_type": "markdown",
   "metadata": {
    "id": "K8bAW6olBsSm"
   },
   "source": [
    "Нам необходимо убедиться, что все модели используют одни и те же данные, чтобы избежать случайных расхождений в процедуре тестирования. После этого мы еще раз обучаем модели значениям гиперпараметров, найденным на этапе настройки, и выводим окончательные результаты."
   ]
  },
  {
   "cell_type": "markdown",
   "metadata": {
    "id": "bCTptUB1BsSm"
   },
   "source": [
    "### LightFM"
   ]
  },
  {
   "cell_type": "code",
   "execution_count": 18,
   "metadata": {
    "colab": {
     "base_uri": "https://localhost:8080/"
    },
    "executionInfo": {
     "elapsed": 7775,
     "status": "ok",
     "timestamp": 1623753235081,
     "user": {
      "displayName": "Alexey Dzyuba",
      "photoUrl": "",
      "userId": "05634633047452801729"
     },
     "user_tz": -240
    },
    "id": "Y8YghgvRBsSm",
    "outputId": "d24cb6e1-1d28-4278-c319-1f3d369f475a"
   },
   "outputs": [
    {
     "name": "stdout",
     "output_type": "stream",
     "text": [
      "LightFM training time: 0.411s\n"
     ]
    }
   ],
   "source": [
    "lfm = create_lightfm_model(data_model_sim, item_tags, num_threads, seed)\n",
    "lfm.rank = study.best_params[\"rank\"]\n",
    "lfm.item_alpha = study.best_params[\"item_alpha\"]\n",
    "lfm.fit_params[\"epochs\"] = study.best_trial.user_attrs[\"epochs\"]\n",
    "lfm.build()\n"
   ]
  },
  {
   "cell_type": "markdown",
   "metadata": {
    "id": "ntiw06KvBsSm"
   },
   "source": [
    "### SVD"
   ]
  },
  {
   "cell_type": "code",
   "execution_count": 19,
   "metadata": {
    "colab": {
     "base_uri": "https://localhost:8080/"
    },
    "executionInfo": {
     "elapsed": 262,
     "status": "ok",
     "timestamp": 1623753235341,
     "user": {
      "displayName": "Alexey Dzyuba",
      "photoUrl": "",
      "userId": "05634633047452801729"
     },
     "user_tz": -240
    },
    "id": "q9ZlROFYBsSm",
    "outputId": "3b5b8096-115a-4b03-f40c-f74b514f0d0e"
   },
   "outputs": [
    {
     "name": "stdout",
     "output_type": "stream",
     "text": [
      "PureSVD(cs)-s training time: 0.091s\n"
     ]
    }
   ],
   "source": [
    "svd = ScaledSVDItemColdStart(data_model_sim)\n",
    "svd.col_scaling = svd_best_config[\"col_scaling\"]\n",
    "svd.rank = svd_best_config[\"rank\"]\n",
    "svd.build()\n"
   ]
  },
  {
   "cell_type": "markdown",
   "metadata": {
    "id": "IEbTs3q6BsSn"
   },
   "source": [
    "## Анализ результатов"
   ]
  },
  {
   "cell_type": "code",
   "execution_count": 20,
   "metadata": {
    "id": "z4pysviqBsSn"
   },
   "outputs": [],
   "source": [
    "all_scores = {\n",
    "    'SVD (лучшее)': svd.evaluate(),\n",
    "    'LightFM (лучшее)': evaluate_lightfm(lfm)\n",
    "}"
   ]
  },
  {
   "cell_type": "code",
   "execution_count": 21,
   "metadata": {
    "id": "XoQYBXtSBsSn"
   },
   "outputs": [],
   "source": [
    "all_scores_df = pd.concat(\n",
    "    [consolidate_metrics(scores, model, False) for model, scores in all_scores.items()]\n",
    ")\n"
   ]
  },
  {
   "cell_type": "markdown",
   "metadata": {},
   "source": [
    "**На этапе настройки мы сосредоточились на метрике `precision@10`. Эта метрика используется, когда мы заинтересованы в том, чтобы рекомендовать пользователям товары из списка N лучших**\n",
    "\n",
    "Теперь пришло время также ознакомиться с другими показателями, и в частности с показателем `coverage`. Показатель `coverage` характеризует тенденцию алгоритма генерировать одни и те же рекомендации снова и снова и, следовательно, связан с разнообразием рекомендаций."
   ]
  },
  {
   "cell_type": "code",
   "execution_count": 22,
   "metadata": {
    "colab": {
     "base_uri": "https://localhost:8080/",
     "height": 82
    },
    "executionInfo": {
     "elapsed": 250,
     "status": "ok",
     "timestamp": 1623753244106,
     "user": {
      "displayName": "Alexey Dzyuba",
      "photoUrl": "",
      "userId": "05634633047452801729"
     },
     "user_tz": -240
    },
    "id": "z9W-hNkyBsSo",
    "outputId": "f08bbb85-edb4-4065-c174-a1f4c258597a"
   },
   "outputs": [
    {
     "data": {
      "text/html": [
       "<style type=\"text/css\">\n",
       "#T_7256e_row0_col0 {\n",
       "  width: 10em;\n",
       "  background: linear-gradient(90deg, #d65f5f 9.1%, transparent 9.1%);\n",
       "}\n",
       "#T_7256e_row0_col6 {\n",
       "  width: 10em;\n",
       "  background: linear-gradient(90deg, #d65f5f 56.1%, transparent 56.1%);\n",
       "}\n",
       "#T_7256e_row1_col0, #T_7256e_row1_col6 {\n",
       "  width: 10em;\n",
       "  background: linear-gradient(90deg, #d65f5f 100.0%, transparent 100.0%);\n",
       "}\n",
       "</style>\n",
       "<table id=\"T_7256e\">\n",
       "  <thead>\n",
       "    <tr>\n",
       "      <th class=\"blank level0\" >&nbsp;</th>\n",
       "      <th id=\"T_7256e_level0_col0\" class=\"col_heading level0 col0\" >precision</th>\n",
       "      <th id=\"T_7256e_level0_col1\" class=\"col_heading level0 col1\" >recall</th>\n",
       "      <th id=\"T_7256e_level0_col2\" class=\"col_heading level0 col2\" >miss_rate</th>\n",
       "      <th id=\"T_7256e_level0_col3\" class=\"col_heading level0 col3\" >ndcg</th>\n",
       "      <th id=\"T_7256e_level0_col4\" class=\"col_heading level0 col4\" >map</th>\n",
       "      <th id=\"T_7256e_level0_col5\" class=\"col_heading level0 col5\" >arhr</th>\n",
       "      <th id=\"T_7256e_level0_col6\" class=\"col_heading level0 col6\" >coverage</th>\n",
       "    </tr>\n",
       "  </thead>\n",
       "  <tbody>\n",
       "    <tr>\n",
       "      <th id=\"T_7256e_level0_row0\" class=\"row_heading level0 row0\" >SVD (лучшее)</th>\n",
       "      <td id=\"T_7256e_row0_col0\" class=\"data row0 col0\" >0.025231</td>\n",
       "      <td id=\"T_7256e_row0_col1\" class=\"data row0 col1\" >0.231867</td>\n",
       "      <td id=\"T_7256e_row0_col2\" class=\"data row0 col2\" >0.979938</td>\n",
       "      <td id=\"T_7256e_row0_col3\" class=\"data row0 col3\" >0.125011</td>\n",
       "      <td id=\"T_7256e_row0_col4\" class=\"data row0 col4\" >0.090959</td>\n",
       "      <td id=\"T_7256e_row0_col5\" class=\"data row0 col5\" >0.096558</td>\n",
       "      <td id=\"T_7256e_row0_col6\" class=\"data row0 col6\" >0.239583</td>\n",
       "    </tr>\n",
       "    <tr>\n",
       "      <th id=\"T_7256e_level0_row1\" class=\"row_heading level0 row1\" >LightFM (лучшее)</th>\n",
       "      <td id=\"T_7256e_row1_col0\" class=\"data row1 col0\" >0.278144</td>\n",
       "      <td id=\"T_7256e_row1_col1\" class=\"data row1 col1\" >0.368731</td>\n",
       "      <td id=\"T_7256e_row1_col2\" class=\"data row1 col2\" >0.993441</td>\n",
       "      <td id=\"T_7256e_row1_col3\" class=\"data row1 col3\" >0.075819</td>\n",
       "      <td id=\"T_7256e_row1_col4\" class=\"data row1 col4\" >0.067482</td>\n",
       "      <td id=\"T_7256e_row1_col5\" class=\"data row1 col5\" >0.071922</td>\n",
       "      <td id=\"T_7256e_row1_col6\" class=\"data row1 col6\" >0.427083</td>\n",
       "    </tr>\n",
       "  </tbody>\n",
       "</table>\n"
      ],
      "text/plain": [
       "<pandas.io.formats.style.Styler at 0x7f2d005df640>"
      ]
     },
     "execution_count": 22,
     "metadata": {},
     "output_type": "execute_result"
    }
   ],
   "source": [
    "(\n",
    "    all_scores_df.dropna(axis=1)  # skip irrelevant metrics\n",
    "    .loc[:, :\"coverage\"]\n",
    "    .style.bar(subset=[target_metric, \"coverage\"])\n",
    ")\n"
   ]
  },
  {
   "cell_type": "markdown",
   "metadata": {
    "id": "qSXXeAsaBsSo"
   },
   "source": [
    "Как показано полосами в таблице выше, стандартная модель на основе SVD работает хуже как с точки зрения точности рекомендаций, так и с точки зрения разнообразия."
   ]
  },
  {
   "cell_type": "code",
   "execution_count": 24,
   "metadata": {
    "colab": {
     "base_uri": "https://localhost:8080/",
     "height": 366
    },
    "executionInfo": {
     "elapsed": 282,
     "status": "ok",
     "timestamp": 1623753256406,
     "user": {
      "displayName": "Alexey Dzyuba",
      "photoUrl": "",
      "userId": "05634633047452801729"
     },
     "user_tz": -240
    },
    "id": "F4E__WUQBsSo",
    "outputId": "e1ef2f5f-dc13-40aa-8f17-8a33e7807ad1"
   },
   "outputs": [
    {
     "data": {
      "text/plain": [
       "Text(0.5, 1.0, 'Combined evaluation results')"
      ]
     },
     "execution_count": 24,
     "metadata": {},
     "output_type": "execute_result"
    },
    {
     "data": {
      "image/png": "[encoded data removed]",
      "text/plain": [
       "<Figure size 576x396 with 1 Axes>"
      ]
     },
     "metadata": {
      "needs_background": "light"
     },
     "output_type": "display_data"
    }
   ],
   "source": [
    "all_scores_df[[\"precision\", \"recall\", \"coverage\"]].T.plot.bar(rot=0)\n",
    "plt.title(\"Combined evaluation results\")\n"
   ]
  },
  {
   "cell_type": "markdown",
   "metadata": {
    "id": "LNoLmMnkBsSp"
   },
   "source": [
    "Можно видеть, что алгоритм LightFM (Коллаборативный + контент) превосходит SVD (Коллаборативный) по каждому отдельному показателю, с которым мы экспериментировали."
   ]
  }
 ],
 "metadata": {
  "colab": {
   "collapsed_sections": [],
   "name": "Comparing LightFM with HybridSVD.ipynb",
   "provenance": []
  },
  "kernelspec": {
   "display_name": "Python 3 (ipykernel)",
   "language": "python",
   "name": "python3"
  },
  "language_info": {
   "codemirror_mode": {
    "name": "ipython",
    "version": 3
   },
   "file_extension": ".py",
   "mimetype": "text/x-python",
   "name": "python",
   "nbconvert_exporter": "python",
   "pygments_lexer": "ipython3",
   "version": "3.9.7"
  },
  "widgets": {
   "application/vnd.jupyter.widget-state+json": {
    "20b738e2bfd44d079c57f0d4886aa11d": {
     "model_module": "@jupyter-widgets/controls",
     "model_name": "DescriptionStyleModel",
     "state": {
      "_model_module": "@jupyter-widgets/controls",
      "_model_module_version": "1.5.0",
      "_model_name": "DescriptionStyleModel",
      "_view_count": null,
      "_view_module": "@jupyter-widgets/base",
      "_view_module_version": "1.2.0",
      "_view_name": "StyleView",
      "description_width": ""
     }
    },
    "2d2f80d9fd6e4bfd8e559c700e3ea919": {
     "model_module": "@jupyter-widgets/controls",
     "model_name": "DescriptionStyleModel",
     "state": {
      "_model_module": "@jupyter-widgets/controls",
      "_model_module_version": "1.5.0",
      "_model_name": "DescriptionStyleModel",
      "_view_count": null,
      "_view_module": "@jupyter-widgets/base",
      "_view_module_version": "1.2.0",
      "_view_name": "StyleView",
      "description_width": ""
     }
    },
    "31a6426763714a1d8ec2856f1db0e091": {
     "model_module": "@jupyter-widgets/base",
     "model_name": "LayoutModel",
     "state": {
      "_model_module": "@jupyter-widgets/base",
      "_model_module_version": "1.2.0",
      "_model_name": "LayoutModel",
      "_view_count": null,
      "_view_module": "@jupyter-widgets/base",
      "_view_module_version": "1.2.0",
      "_view_name": "LayoutView",
      "align_content": null,
      "align_items": null,
      "align_self": null,
      "border": null,
      "bottom": null,
      "display": null,
      "flex": null,
      "flex_flow": null,
      "grid_area": null,
      "grid_auto_columns": null,
      "grid_auto_flow": null,
      "grid_auto_rows": null,
      "grid_column": null,
      "grid_gap": null,
      "grid_row": null,
      "grid_template_areas": null,
      "grid_template_columns": null,
      "grid_template_rows": null,
      "height": null,
      "justify_content": null,
      "justify_items": null,
      "left": null,
      "margin": null,
      "max_height": null,
      "max_width": null,
      "min_height": null,
      "min_width": null,
      "object_fit": null,
      "object_position": null,
      "order": null,
      "overflow": null,
      "overflow_x": null,
      "overflow_y": null,
      "padding": null,
      "right": null,
      "top": null,
      "visibility": null,
      "width": null
     }
    },
    "53c28c43efad48ffbbd06a984cec6abd": {
     "model_module": "@jupyter-widgets/controls",
     "model_name": "FloatProgressModel",
     "state": {
      "_dom_classes": [],
      "_model_module": "@jupyter-widgets/controls",
      "_model_module_version": "1.5.0",
      "_model_name": "FloatProgressModel",
      "_view_count": null,
      "_view_module": "@jupyter-widgets/controls",
      "_view_module_version": "1.5.0",
      "_view_name": "ProgressView",
      "bar_style": "success",
      "description": "100%",
      "description_tooltip": null,
      "layout": "IPY_MODEL_31a6426763714a1d8ec2856f1db0e091",
      "max": 189,
      "min": 0,
      "orientation": "horizontal",
      "style": "IPY_MODEL_a386a4cd795b4bd090f4f710d0de23d3",
      "value": 189
     }
    },
    "5bda0518cdfd474bb4d704e684f8d259": {
     "model_module": "@jupyter-widgets/controls",
     "model_name": "HTMLModel",
     "state": {
      "_dom_classes": [],
      "_model_module": "@jupyter-widgets/controls",
      "_model_module_version": "1.5.0",
      "_model_name": "HTMLModel",
      "_view_count": null,
      "_view_module": "@jupyter-widgets/controls",
      "_view_module_version": "1.5.0",
      "_view_name": "HTMLView",
      "description": "",
      "description_tooltip": null,
      "layout": "IPY_MODEL_a8d6158d33224d35a10b1557a2aee4ff",
      "placeholder": "​",
      "style": "IPY_MODEL_2d2f80d9fd6e4bfd8e559c700e3ea919",
      "value": " 6/6 [31:46&lt;00:00, 317.78s/it]"
     }
    },
    "63892f9544e94db58705a990cee66ebc": {
     "model_module": "@jupyter-widgets/controls",
     "model_name": "FloatProgressModel",
     "state": {
      "_dom_classes": [],
      "_model_module": "@jupyter-widgets/controls",
      "_model_module_version": "1.5.0",
      "_model_name": "FloatProgressModel",
      "_view_count": null,
      "_view_module": "@jupyter-widgets/controls",
      "_view_module_version": "1.5.0",
      "_view_name": "ProgressView",
      "bar_style": "success",
      "description": "100%",
      "description_tooltip": null,
      "layout": "IPY_MODEL_752db07ca3ac451c8fce4fb978198338",
      "max": 6,
      "min": 0,
      "orientation": "horizontal",
      "style": "IPY_MODEL_b45b7494425d41a99f6b3ae7f86abe4b",
      "value": 6
     }
    },
    "6470414259da4baa8e306a41ba2ecb19": {
     "model_module": "@jupyter-widgets/controls",
     "model_name": "HBoxModel",
     "state": {
      "_dom_classes": [],
      "_model_module": "@jupyter-widgets/controls",
      "_model_module_version": "1.5.0",
      "_model_name": "HBoxModel",
      "_view_count": null,
      "_view_module": "@jupyter-widgets/controls",
      "_view_module_version": "1.5.0",
      "_view_name": "HBoxView",
      "box_style": "",
      "children": [
       "IPY_MODEL_63892f9544e94db58705a990cee66ebc",
       "IPY_MODEL_5bda0518cdfd474bb4d704e684f8d259"
      ],
      "layout": "IPY_MODEL_b45575551b2944d19ce9d41bdb5dbb4d"
     }
    },
    "6585a860752a4c039461e8361fce171e": {
     "model_module": "@jupyter-widgets/controls",
     "model_name": "HBoxModel",
     "state": {
      "_dom_classes": [],
      "_model_module": "@jupyter-widgets/controls",
      "_model_module_version": "1.5.0",
      "_model_name": "HBoxModel",
      "_view_count": null,
      "_view_module": "@jupyter-widgets/controls",
      "_view_module_version": "1.5.0",
      "_view_name": "HBoxView",
      "box_style": "",
      "children": [
       "IPY_MODEL_53c28c43efad48ffbbd06a984cec6abd",
       "IPY_MODEL_cd8e561d2bbb483b9ecee87f94224bc6"
      ],
      "layout": "IPY_MODEL_b42eebf9e9cb4f5aad7f3487d6ebedda"
     }
    },
    "752db07ca3ac451c8fce4fb978198338": {
     "model_module": "@jupyter-widgets/base",
     "model_name": "LayoutModel",
     "state": {
      "_model_module": "@jupyter-widgets/base",
      "_model_module_version": "1.2.0",
      "_model_name": "LayoutModel",
      "_view_count": null,
      "_view_module": "@jupyter-widgets/base",
      "_view_module_version": "1.2.0",
      "_view_name": "LayoutView",
      "align_content": null,
      "align_items": null,
      "align_self": null,
      "border": null,
      "bottom": null,
      "display": null,
      "flex": null,
      "flex_flow": null,
      "grid_area": null,
      "grid_auto_columns": null,
      "grid_auto_flow": null,
      "grid_auto_rows": null,
      "grid_column": null,
      "grid_gap": null,
      "grid_row": null,
      "grid_template_areas": null,
      "grid_template_columns": null,
      "grid_template_rows": null,
      "height": null,
      "justify_content": null,
      "justify_items": null,
      "left": null,
      "margin": null,
      "max_height": null,
      "max_width": null,
      "min_height": null,
      "min_width": null,
      "object_fit": null,
      "object_position": null,
      "order": null,
      "overflow": null,
      "overflow_x": null,
      "overflow_y": null,
      "padding": null,
      "right": null,
      "top": null,
      "visibility": null,
      "width": null
     }
    },
    "a386a4cd795b4bd090f4f710d0de23d3": {
     "model_module": "@jupyter-widgets/controls",
     "model_name": "ProgressStyleModel",
     "state": {
      "_model_module": "@jupyter-widgets/controls",
      "_model_module_version": "1.5.0",
      "_model_name": "ProgressStyleModel",
      "_view_count": null,
      "_view_module": "@jupyter-widgets/base",
      "_view_module_version": "1.2.0",
      "_view_name": "StyleView",
      "bar_color": null,
      "description_width": "initial"
     }
    },
    "a8d6158d33224d35a10b1557a2aee4ff": {
     "model_module": "@jupyter-widgets/base",
     "model_name": "LayoutModel",
     "state": {
      "_model_module": "@jupyter-widgets/base",
      "_model_module_version": "1.2.0",
      "_model_name": "LayoutModel",
      "_view_count": null,
      "_view_module": "@jupyter-widgets/base",
      "_view_module_version": "1.2.0",
      "_view_name": "LayoutView",
      "align_content": null,
      "align_items": null,
      "align_self": null,
      "border": null,
      "bottom": null,
      "display": null,
      "flex": null,
      "flex_flow": null,
      "grid_area": null,
      "grid_auto_columns": null,
      "grid_auto_flow": null,
      "grid_auto_rows": null,
      "grid_column": null,
      "grid_gap": null,
      "grid_row": null,
      "grid_template_areas": null,
      "grid_template_columns": null,
      "grid_template_rows": null,
      "height": null,
      "justify_content": null,
      "justify_items": null,
      "left": null,
      "margin": null,
      "max_height": null,
      "max_width": null,
      "min_height": null,
      "min_width": null,
      "object_fit": null,
      "object_position": null,
      "order": null,
      "overflow": null,
      "overflow_x": null,
      "overflow_y": null,
      "padding": null,
      "right": null,
      "top": null,
      "visibility": null,
      "width": null
     }
    },
    "b42eebf9e9cb4f5aad7f3487d6ebedda": {
     "model_module": "@jupyter-widgets/base",
     "model_name": "LayoutModel",
     "state": {
      "_model_module": "@jupyter-widgets/base",
      "_model_module_version": "1.2.0",
      "_model_name": "LayoutModel",
      "_view_count": null,
      "_view_module": "@jupyter-widgets/base",
      "_view_module_version": "1.2.0",
      "_view_name": "LayoutView",
      "align_content": null,
      "align_items": null,
      "align_self": null,
      "border": null,
      "bottom": null,
      "display": null,
      "flex": null,
      "flex_flow": null,
      "grid_area": null,
      "grid_auto_columns": null,
      "grid_auto_flow": null,
      "grid_auto_rows": null,
      "grid_column": null,
      "grid_gap": null,
      "grid_row": null,
      "grid_template_areas": null,
      "grid_template_columns": null,
      "grid_template_rows": null,
      "height": null,
      "justify_content": null,
      "justify_items": null,
      "left": null,
      "margin": null,
      "max_height": null,
      "max_width": null,
      "min_height": null,
      "min_width": null,
      "object_fit": null,
      "object_position": null,
      "order": null,
      "overflow": null,
      "overflow_x": null,
      "overflow_y": null,
      "padding": null,
      "right": null,
      "top": null,
      "visibility": null,
      "width": null
     }
    },
    "b45575551b2944d19ce9d41bdb5dbb4d": {
     "model_module": "@jupyter-widgets/base",
     "model_name": "LayoutModel",
     "state": {
      "_model_module": "@jupyter-widgets/base",
      "_model_module_version": "1.2.0",
      "_model_name": "LayoutModel",
      "_view_count": null,
      "_view_module": "@jupyter-widgets/base",
      "_view_module_version": "1.2.0",
      "_view_name": "LayoutView",
      "align_content": null,
      "align_items": null,
      "align_self": null,
      "border": null,
      "bottom": null,
      "display": null,
      "flex": null,
      "flex_flow": null,
      "grid_area": null,
      "grid_auto_columns": null,
      "grid_auto_flow": null,
      "grid_auto_rows": null,
      "grid_column": null,
      "grid_gap": null,
      "grid_row": null,
      "grid_template_areas": null,
      "grid_template_columns": null,
      "grid_template_rows": null,
      "height": null,
      "justify_content": null,
      "justify_items": null,
      "left": null,
      "margin": null,
      "max_height": null,
      "max_width": null,
      "min_height": null,
      "min_width": null,
      "object_fit": null,
      "object_position": null,
      "order": null,
      "overflow": null,
      "overflow_x": null,
      "overflow_y": null,
      "padding": null,
      "right": null,
      "top": null,
      "visibility": null,
      "width": null
     }
    },
    "b45b7494425d41a99f6b3ae7f86abe4b": {
     "model_module": "@jupyter-widgets/controls",
     "model_name": "ProgressStyleModel",
     "state": {
      "_model_module": "@jupyter-widgets/controls",
      "_model_module_version": "1.5.0",
      "_model_name": "ProgressStyleModel",
      "_view_count": null,
      "_view_module": "@jupyter-widgets/base",
      "_view_module_version": "1.2.0",
      "_view_name": "StyleView",
      "bar_color": null,
      "description_width": "initial"
     }
    },
    "cd8e561d2bbb483b9ecee87f94224bc6": {
     "model_module": "@jupyter-widgets/controls",
     "model_name": "HTMLModel",
     "state": {
      "_dom_classes": [],
      "_model_module": "@jupyter-widgets/controls",
      "_model_module_version": "1.5.0",
      "_model_name": "HTMLModel",
      "_view_count": null,
      "_view_module": "@jupyter-widgets/controls",
      "_view_module_version": "1.5.0",
      "_view_name": "HTMLView",
      "description": "",
      "description_tooltip": null,
      "layout": "IPY_MODEL_dd1b051f9e9b4580955bbe6feac87f19",
      "placeholder": "​",
      "style": "IPY_MODEL_20b738e2bfd44d079c57f0d4886aa11d",
      "value": " 189/189 [00:17&lt;00:00, 10.83it/s]"
     }
    },
    "dd1b051f9e9b4580955bbe6feac87f19": {
     "model_module": "@jupyter-widgets/base",
     "model_name": "LayoutModel",
     "state": {
      "_model_module": "@jupyter-widgets/base",
      "_model_module_version": "1.2.0",
      "_model_name": "LayoutModel",
      "_view_count": null,
      "_view_module": "@jupyter-widgets/base",
      "_view_module_version": "1.2.0",
      "_view_name": "LayoutView",
      "align_content": null,
      "align_items": null,
      "align_self": null,
      "border": null,
      "bottom": null,
      "display": null,
      "flex": null,
      "flex_flow": null,
      "grid_area": null,
      "grid_auto_columns": null,
      "grid_auto_flow": null,
      "grid_auto_rows": null,
      "grid_column": null,
      "grid_gap": null,
      "grid_row": null,
      "grid_template_areas": null,
      "grid_template_columns": null,
      "grid_template_rows": null,
      "height": null,
      "justify_content": null,
      "justify_items": null,
      "left": null,
      "margin": null,
      "max_height": null,
      "max_width": null,
      "min_height": null,
      "min_width": null,
      "object_fit": null,
      "object_position": null,
      "order": null,
      "overflow": null,
      "overflow_x": null,
      "overflow_y": null,
      "padding": null,
      "right": null,
      "top": null,
      "visibility": null,
      "width": null
     }
    }
   }
  }
 },
 "nbformat": 4,
 "nbformat_minor": 1
}
